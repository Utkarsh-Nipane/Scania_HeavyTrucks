{
 "cells": [
  {
   "cell_type": "code",
   "execution_count": 142,
   "metadata": {},
   "outputs": [],
   "source": [
    "%matplotlib inline \n",
    "import matplotlib.pyplot as plt\n",
    "import numpy as np\n",
    "\n",
    "import pandas as pd\n",
    "\n",
    "from sklearn.neighbors import KNeighborsClassifier\n",
    "\n",
    "from scipy.stats import zscore\n",
    "\n",
    "from sklearn.preprocessing import Imputer\n",
    "\n",
    "from sklearn.metrics import accuracy_score\n",
    "\n",
    "import seaborn as sns\n",
    "from pandas import DataFrame, Series\n",
    "import sqlite3 as db\n",
    "\n",
    "from pandasql import sqldf"
   ]
  },
  {
   "cell_type": "markdown",
   "metadata": {},
   "source": [
    "###### Importing Data"
   ]
  },
  {
   "cell_type": "code",
   "execution_count": 181,
   "metadata": {},
   "outputs": [
    {
     "data": {
      "text/html": [
       "<div>\n",
       "<style scoped>\n",
       "    .dataframe tbody tr th:only-of-type {\n",
       "        vertical-align: middle;\n",
       "    }\n",
       "\n",
       "    .dataframe tbody tr th {\n",
       "        vertical-align: top;\n",
       "    }\n",
       "\n",
       "    .dataframe thead th {\n",
       "        text-align: right;\n",
       "    }\n",
       "</style>\n",
       "<table border=\"1\" class=\"dataframe\">\n",
       "  <thead>\n",
       "    <tr style=\"text-align: right;\">\n",
       "      <th></th>\n",
       "      <th>class</th>\n",
       "      <th>aa_000</th>\n",
       "      <th>ab_000</th>\n",
       "      <th>ac_000</th>\n",
       "      <th>ad_000</th>\n",
       "      <th>ae_000</th>\n",
       "      <th>af_000</th>\n",
       "      <th>ag_000</th>\n",
       "      <th>ag_001</th>\n",
       "      <th>ag_002</th>\n",
       "      <th>...</th>\n",
       "      <th>ee_002</th>\n",
       "      <th>ee_003</th>\n",
       "      <th>ee_004</th>\n",
       "      <th>ee_005</th>\n",
       "      <th>ee_006</th>\n",
       "      <th>ee_007</th>\n",
       "      <th>ee_008</th>\n",
       "      <th>ee_009</th>\n",
       "      <th>ef_000</th>\n",
       "      <th>eg_000</th>\n",
       "    </tr>\n",
       "  </thead>\n",
       "  <tbody>\n",
       "    <tr>\n",
       "      <th>0</th>\n",
       "      <td>neg</td>\n",
       "      <td>76698</td>\n",
       "      <td>na</td>\n",
       "      <td>2130706438</td>\n",
       "      <td>280</td>\n",
       "      <td>0</td>\n",
       "      <td>0</td>\n",
       "      <td>0</td>\n",
       "      <td>0</td>\n",
       "      <td>0</td>\n",
       "      <td>...</td>\n",
       "      <td>1240520</td>\n",
       "      <td>493384</td>\n",
       "      <td>721044</td>\n",
       "      <td>469792</td>\n",
       "      <td>339156</td>\n",
       "      <td>157956</td>\n",
       "      <td>73224</td>\n",
       "      <td>0</td>\n",
       "      <td>0</td>\n",
       "      <td>0</td>\n",
       "    </tr>\n",
       "    <tr>\n",
       "      <th>1</th>\n",
       "      <td>neg</td>\n",
       "      <td>33058</td>\n",
       "      <td>na</td>\n",
       "      <td>0</td>\n",
       "      <td>na</td>\n",
       "      <td>0</td>\n",
       "      <td>0</td>\n",
       "      <td>0</td>\n",
       "      <td>0</td>\n",
       "      <td>0</td>\n",
       "      <td>...</td>\n",
       "      <td>421400</td>\n",
       "      <td>178064</td>\n",
       "      <td>293306</td>\n",
       "      <td>245416</td>\n",
       "      <td>133654</td>\n",
       "      <td>81140</td>\n",
       "      <td>97576</td>\n",
       "      <td>1500</td>\n",
       "      <td>0</td>\n",
       "      <td>0</td>\n",
       "    </tr>\n",
       "    <tr>\n",
       "      <th>2</th>\n",
       "      <td>neg</td>\n",
       "      <td>41040</td>\n",
       "      <td>na</td>\n",
       "      <td>228</td>\n",
       "      <td>100</td>\n",
       "      <td>0</td>\n",
       "      <td>0</td>\n",
       "      <td>0</td>\n",
       "      <td>0</td>\n",
       "      <td>0</td>\n",
       "      <td>...</td>\n",
       "      <td>277378</td>\n",
       "      <td>159812</td>\n",
       "      <td>423992</td>\n",
       "      <td>409564</td>\n",
       "      <td>320746</td>\n",
       "      <td>158022</td>\n",
       "      <td>95128</td>\n",
       "      <td>514</td>\n",
       "      <td>0</td>\n",
       "      <td>0</td>\n",
       "    </tr>\n",
       "    <tr>\n",
       "      <th>3</th>\n",
       "      <td>neg</td>\n",
       "      <td>12</td>\n",
       "      <td>0</td>\n",
       "      <td>70</td>\n",
       "      <td>66</td>\n",
       "      <td>0</td>\n",
       "      <td>10</td>\n",
       "      <td>0</td>\n",
       "      <td>0</td>\n",
       "      <td>0</td>\n",
       "      <td>...</td>\n",
       "      <td>240</td>\n",
       "      <td>46</td>\n",
       "      <td>58</td>\n",
       "      <td>44</td>\n",
       "      <td>10</td>\n",
       "      <td>0</td>\n",
       "      <td>0</td>\n",
       "      <td>0</td>\n",
       "      <td>4</td>\n",
       "      <td>32</td>\n",
       "    </tr>\n",
       "    <tr>\n",
       "      <th>4</th>\n",
       "      <td>neg</td>\n",
       "      <td>60874</td>\n",
       "      <td>na</td>\n",
       "      <td>1368</td>\n",
       "      <td>458</td>\n",
       "      <td>0</td>\n",
       "      <td>0</td>\n",
       "      <td>0</td>\n",
       "      <td>0</td>\n",
       "      <td>0</td>\n",
       "      <td>...</td>\n",
       "      <td>622012</td>\n",
       "      <td>229790</td>\n",
       "      <td>405298</td>\n",
       "      <td>347188</td>\n",
       "      <td>286954</td>\n",
       "      <td>311560</td>\n",
       "      <td>433954</td>\n",
       "      <td>1218</td>\n",
       "      <td>0</td>\n",
       "      <td>0</td>\n",
       "    </tr>\n",
       "  </tbody>\n",
       "</table>\n",
       "<p>5 rows × 171 columns</p>\n",
       "</div>"
      ],
      "text/plain": [
       "  class  aa_000 ab_000      ac_000 ad_000 ae_000 af_000 ag_000 ag_001 ag_002  \\\n",
       "0   neg   76698     na  2130706438    280      0      0      0      0      0   \n",
       "1   neg   33058     na           0     na      0      0      0      0      0   \n",
       "2   neg   41040     na         228    100      0      0      0      0      0   \n",
       "3   neg      12      0          70     66      0     10      0      0      0   \n",
       "4   neg   60874     na        1368    458      0      0      0      0      0   \n",
       "\n",
       "   ...     ee_002  ee_003  ee_004  ee_005  ee_006  ee_007  ee_008 ee_009  \\\n",
       "0  ...    1240520  493384  721044  469792  339156  157956   73224      0   \n",
       "1  ...     421400  178064  293306  245416  133654   81140   97576   1500   \n",
       "2  ...     277378  159812  423992  409564  320746  158022   95128    514   \n",
       "3  ...        240      46      58      44      10       0       0      0   \n",
       "4  ...     622012  229790  405298  347188  286954  311560  433954   1218   \n",
       "\n",
       "  ef_000 eg_000  \n",
       "0      0      0  \n",
       "1      0      0  \n",
       "2      0      0  \n",
       "3      4     32  \n",
       "4      0      0  \n",
       "\n",
       "[5 rows x 171 columns]"
      ]
     },
     "execution_count": 181,
     "metadata": {},
     "output_type": "execute_result"
    }
   ],
   "source": [
    "train_data = pd.read_csv('aps_failure_training_set.csv')\n",
    "test_data = pd.read_csv('aps_failure_test_set.csv')\n",
    "train_data.head()"
   ]
  },
  {
   "cell_type": "code",
   "execution_count": 182,
   "metadata": {},
   "outputs": [
    {
     "data": {
      "text/html": [
       "<div>\n",
       "<style scoped>\n",
       "    .dataframe tbody tr th:only-of-type {\n",
       "        vertical-align: middle;\n",
       "    }\n",
       "\n",
       "    .dataframe tbody tr th {\n",
       "        vertical-align: top;\n",
       "    }\n",
       "\n",
       "    .dataframe thead th {\n",
       "        text-align: right;\n",
       "    }\n",
       "</style>\n",
       "<table border=\"1\" class=\"dataframe\">\n",
       "  <thead>\n",
       "    <tr style=\"text-align: right;\">\n",
       "      <th></th>\n",
       "      <th>count</th>\n",
       "      <th>mean</th>\n",
       "      <th>std</th>\n",
       "      <th>min</th>\n",
       "      <th>25%</th>\n",
       "      <th>50%</th>\n",
       "      <th>75%</th>\n",
       "      <th>max</th>\n",
       "    </tr>\n",
       "  </thead>\n",
       "  <tbody>\n",
       "    <tr>\n",
       "      <th>aa_000</th>\n",
       "      <td>60000.0</td>\n",
       "      <td>59336.499567</td>\n",
       "      <td>145430.056532</td>\n",
       "      <td>0.0</td>\n",
       "      <td>834.0</td>\n",
       "      <td>30776.0</td>\n",
       "      <td>48668.0</td>\n",
       "      <td>2746564.0</td>\n",
       "    </tr>\n",
       "  </tbody>\n",
       "</table>\n",
       "</div>"
      ],
      "text/plain": [
       "          count          mean            std  min    25%      50%      75%  \\\n",
       "aa_000  60000.0  59336.499567  145430.056532  0.0  834.0  30776.0  48668.0   \n",
       "\n",
       "              max  \n",
       "aa_000  2746564.0  "
      ]
     },
     "execution_count": 182,
     "metadata": {},
     "output_type": "execute_result"
    }
   ],
   "source": [
    "train_data.describe().T"
   ]
  },
  {
   "cell_type": "code",
   "execution_count": 183,
   "metadata": {},
   "outputs": [
    {
     "name": "stdout",
     "output_type": "stream",
     "text": [
      "<class 'pandas.core.frame.DataFrame'>\n",
      "RangeIndex: 60000 entries, 0 to 59999\n",
      "Columns: 171 entries, class to eg_000\n",
      "dtypes: int64(1), object(170)\n",
      "memory usage: 78.3+ MB\n"
     ]
    }
   ],
   "source": [
    "train_data.info()"
   ]
  },
  {
   "cell_type": "markdown",
   "metadata": {},
   "source": [
    "###### Data Cleaning: Data Types"
   ]
  },
  {
   "cell_type": "code",
   "execution_count": 184,
   "metadata": {
    "scrolled": true
   },
   "outputs": [
    {
     "name": "stderr",
     "output_type": "stream",
     "text": [
      "C:\\Users\\hp\\Anaconda3\\lib\\site-packages\\ipykernel_launcher.py:1: FutureWarning: convert_objects is deprecated.  To re-infer data dtypes for object columns, use DataFrame.infer_objects()\n",
      "For all other conversions use the data-type specific converters pd.to_datetime, pd.to_timedelta and pd.to_numeric.\n",
      "  \"\"\"Entry point for launching an IPython kernel.\n"
     ]
    }
   ],
   "source": [
    "train_data = train_data.convert_objects(convert_numeric=True)"
   ]
  },
  {
   "cell_type": "code",
   "execution_count": 185,
   "metadata": {},
   "outputs": [
    {
     "name": "stdout",
     "output_type": "stream",
     "text": [
      "<class 'pandas.core.frame.DataFrame'>\n",
      "RangeIndex: 60000 entries, 0 to 59999\n",
      "Columns: 171 entries, class to eg_000\n",
      "dtypes: float64(169), int64(1), object(1)\n",
      "memory usage: 78.3+ MB\n"
     ]
    }
   ],
   "source": [
    "train_data.info()"
   ]
  },
  {
   "cell_type": "code",
   "execution_count": 186,
   "metadata": {},
   "outputs": [
    {
     "data": {
      "text/html": [
       "<div>\n",
       "<style scoped>\n",
       "    .dataframe tbody tr th:only-of-type {\n",
       "        vertical-align: middle;\n",
       "    }\n",
       "\n",
       "    .dataframe tbody tr th {\n",
       "        vertical-align: top;\n",
       "    }\n",
       "\n",
       "    .dataframe thead th {\n",
       "        text-align: right;\n",
       "    }\n",
       "</style>\n",
       "<table border=\"1\" class=\"dataframe\">\n",
       "  <thead>\n",
       "    <tr style=\"text-align: right;\">\n",
       "      <th></th>\n",
       "      <th>count</th>\n",
       "      <th>mean</th>\n",
       "      <th>std</th>\n",
       "      <th>min</th>\n",
       "      <th>25%</th>\n",
       "      <th>50%</th>\n",
       "      <th>75%</th>\n",
       "      <th>max</th>\n",
       "    </tr>\n",
       "  </thead>\n",
       "  <tbody>\n",
       "    <tr>\n",
       "      <th>aa_000</th>\n",
       "      <td>60000.0</td>\n",
       "      <td>5.933650e+04</td>\n",
       "      <td>1.454301e+05</td>\n",
       "      <td>0.0</td>\n",
       "      <td>834.00</td>\n",
       "      <td>30776.0</td>\n",
       "      <td>48668.00</td>\n",
       "      <td>2.746564e+06</td>\n",
       "    </tr>\n",
       "    <tr>\n",
       "      <th>ab_000</th>\n",
       "      <td>13671.0</td>\n",
       "      <td>7.131885e-01</td>\n",
       "      <td>3.478962e+00</td>\n",
       "      <td>0.0</td>\n",
       "      <td>0.00</td>\n",
       "      <td>0.0</td>\n",
       "      <td>0.00</td>\n",
       "      <td>2.040000e+02</td>\n",
       "    </tr>\n",
       "    <tr>\n",
       "      <th>ac_000</th>\n",
       "      <td>56665.0</td>\n",
       "      <td>3.560143e+08</td>\n",
       "      <td>7.948749e+08</td>\n",
       "      <td>0.0</td>\n",
       "      <td>16.00</td>\n",
       "      <td>152.0</td>\n",
       "      <td>964.00</td>\n",
       "      <td>2.130707e+09</td>\n",
       "    </tr>\n",
       "    <tr>\n",
       "      <th>ad_000</th>\n",
       "      <td>45139.0</td>\n",
       "      <td>1.906206e+05</td>\n",
       "      <td>4.040441e+07</td>\n",
       "      <td>0.0</td>\n",
       "      <td>24.00</td>\n",
       "      <td>126.0</td>\n",
       "      <td>430.00</td>\n",
       "      <td>8.584298e+09</td>\n",
       "    </tr>\n",
       "    <tr>\n",
       "      <th>ae_000</th>\n",
       "      <td>57500.0</td>\n",
       "      <td>6.819130e+00</td>\n",
       "      <td>1.615434e+02</td>\n",
       "      <td>0.0</td>\n",
       "      <td>0.00</td>\n",
       "      <td>0.0</td>\n",
       "      <td>0.00</td>\n",
       "      <td>2.105000e+04</td>\n",
       "    </tr>\n",
       "    <tr>\n",
       "      <th>af_000</th>\n",
       "      <td>57500.0</td>\n",
       "      <td>1.100682e+01</td>\n",
       "      <td>2.097926e+02</td>\n",
       "      <td>0.0</td>\n",
       "      <td>0.00</td>\n",
       "      <td>0.0</td>\n",
       "      <td>0.00</td>\n",
       "      <td>2.007000e+04</td>\n",
       "    </tr>\n",
       "    <tr>\n",
       "      <th>ag_000</th>\n",
       "      <td>59329.0</td>\n",
       "      <td>2.216364e+02</td>\n",
       "      <td>2.047846e+04</td>\n",
       "      <td>0.0</td>\n",
       "      <td>0.00</td>\n",
       "      <td>0.0</td>\n",
       "      <td>0.00</td>\n",
       "      <td>3.376892e+06</td>\n",
       "    </tr>\n",
       "    <tr>\n",
       "      <th>ag_001</th>\n",
       "      <td>59329.0</td>\n",
       "      <td>9.757223e+02</td>\n",
       "      <td>3.420053e+04</td>\n",
       "      <td>0.0</td>\n",
       "      <td>0.00</td>\n",
       "      <td>0.0</td>\n",
       "      <td>0.00</td>\n",
       "      <td>4.109372e+06</td>\n",
       "    </tr>\n",
       "    <tr>\n",
       "      <th>ag_002</th>\n",
       "      <td>59329.0</td>\n",
       "      <td>8.606015e+03</td>\n",
       "      <td>1.503220e+05</td>\n",
       "      <td>0.0</td>\n",
       "      <td>0.00</td>\n",
       "      <td>0.0</td>\n",
       "      <td>0.00</td>\n",
       "      <td>1.055286e+07</td>\n",
       "    </tr>\n",
       "    <tr>\n",
       "      <th>ag_003</th>\n",
       "      <td>59329.0</td>\n",
       "      <td>8.859128e+04</td>\n",
       "      <td>7.617312e+05</td>\n",
       "      <td>0.0</td>\n",
       "      <td>0.00</td>\n",
       "      <td>0.0</td>\n",
       "      <td>0.00</td>\n",
       "      <td>6.340207e+07</td>\n",
       "    </tr>\n",
       "    <tr>\n",
       "      <th>ag_004</th>\n",
       "      <td>59329.0</td>\n",
       "      <td>4.370966e+05</td>\n",
       "      <td>2.374282e+06</td>\n",
       "      <td>0.0</td>\n",
       "      <td>308.00</td>\n",
       "      <td>3672.0</td>\n",
       "      <td>49522.00</td>\n",
       "      <td>2.288306e+08</td>\n",
       "    </tr>\n",
       "    <tr>\n",
       "      <th>ag_005</th>\n",
       "      <td>59329.0</td>\n",
       "      <td>1.108374e+06</td>\n",
       "      <td>3.262607e+06</td>\n",
       "      <td>0.0</td>\n",
       "      <td>13834.00</td>\n",
       "      <td>176020.0</td>\n",
       "      <td>913964.00</td>\n",
       "      <td>1.791880e+08</td>\n",
       "    </tr>\n",
       "    <tr>\n",
       "      <th>ag_006</th>\n",
       "      <td>59329.0</td>\n",
       "      <td>1.657818e+06</td>\n",
       "      <td>3.909384e+06</td>\n",
       "      <td>0.0</td>\n",
       "      <td>10608.00</td>\n",
       "      <td>930336.0</td>\n",
       "      <td>1886608.00</td>\n",
       "      <td>9.402067e+07</td>\n",
       "    </tr>\n",
       "    <tr>\n",
       "      <th>ag_007</th>\n",
       "      <td>59329.0</td>\n",
       "      <td>4.993098e+05</td>\n",
       "      <td>1.422765e+06</td>\n",
       "      <td>0.0</td>\n",
       "      <td>0.00</td>\n",
       "      <td>119204.0</td>\n",
       "      <td>588820.00</td>\n",
       "      <td>6.334675e+07</td>\n",
       "    </tr>\n",
       "    <tr>\n",
       "      <th>ag_008</th>\n",
       "      <td>59329.0</td>\n",
       "      <td>3.556989e+04</td>\n",
       "      <td>2.201524e+05</td>\n",
       "      <td>0.0</td>\n",
       "      <td>0.00</td>\n",
       "      <td>1786.0</td>\n",
       "      <td>26690.00</td>\n",
       "      <td>1.770252e+07</td>\n",
       "    </tr>\n",
       "    <tr>\n",
       "      <th>ag_009</th>\n",
       "      <td>59329.0</td>\n",
       "      <td>5.114753e+03</td>\n",
       "      <td>1.696582e+05</td>\n",
       "      <td>0.0</td>\n",
       "      <td>0.00</td>\n",
       "      <td>0.0</td>\n",
       "      <td>364.00</td>\n",
       "      <td>2.519851e+07</td>\n",
       "    </tr>\n",
       "    <tr>\n",
       "      <th>ah_000</th>\n",
       "      <td>59355.0</td>\n",
       "      <td>1.809931e+06</td>\n",
       "      <td>4.185740e+06</td>\n",
       "      <td>0.0</td>\n",
       "      <td>29733.00</td>\n",
       "      <td>1002420.0</td>\n",
       "      <td>1601366.00</td>\n",
       "      <td>7.424732e+07</td>\n",
       "    </tr>\n",
       "    <tr>\n",
       "      <th>ai_000</th>\n",
       "      <td>59371.0</td>\n",
       "      <td>9.016965e+03</td>\n",
       "      <td>1.632778e+05</td>\n",
       "      <td>0.0</td>\n",
       "      <td>0.00</td>\n",
       "      <td>0.0</td>\n",
       "      <td>0.00</td>\n",
       "      <td>1.651285e+07</td>\n",
       "    </tr>\n",
       "    <tr>\n",
       "      <th>aj_000</th>\n",
       "      <td>59371.0</td>\n",
       "      <td>1.143675e+03</td>\n",
       "      <td>5.035971e+04</td>\n",
       "      <td>0.0</td>\n",
       "      <td>0.00</td>\n",
       "      <td>0.0</td>\n",
       "      <td>0.00</td>\n",
       "      <td>5.629340e+06</td>\n",
       "    </tr>\n",
       "    <tr>\n",
       "      <th>ak_000</th>\n",
       "      <td>55600.0</td>\n",
       "      <td>9.794900e+02</td>\n",
       "      <td>7.583162e+04</td>\n",
       "      <td>0.0</td>\n",
       "      <td>0.00</td>\n",
       "      <td>0.0</td>\n",
       "      <td>0.00</td>\n",
       "      <td>1.044492e+07</td>\n",
       "    </tr>\n",
       "    <tr>\n",
       "      <th>al_000</th>\n",
       "      <td>59358.0</td>\n",
       "      <td>5.913048e+04</td>\n",
       "      <td>5.394658e+05</td>\n",
       "      <td>0.0</td>\n",
       "      <td>0.00</td>\n",
       "      <td>0.0</td>\n",
       "      <td>1204.00</td>\n",
       "      <td>3.476258e+07</td>\n",
       "    </tr>\n",
       "    <tr>\n",
       "      <th>am_0</th>\n",
       "      <td>59371.0</td>\n",
       "      <td>9.328133e+04</td>\n",
       "      <td>8.494694e+05</td>\n",
       "      <td>0.0</td>\n",
       "      <td>0.00</td>\n",
       "      <td>0.0</td>\n",
       "      <td>2364.00</td>\n",
       "      <td>5.590351e+07</td>\n",
       "    </tr>\n",
       "    <tr>\n",
       "      <th>an_000</th>\n",
       "      <td>59358.0</td>\n",
       "      <td>3.461037e+06</td>\n",
       "      <td>7.790350e+06</td>\n",
       "      <td>0.0</td>\n",
       "      <td>73238.50</td>\n",
       "      <td>1918629.0</td>\n",
       "      <td>3128415.50</td>\n",
       "      <td>1.408618e+08</td>\n",
       "    </tr>\n",
       "    <tr>\n",
       "      <th>ao_000</th>\n",
       "      <td>59411.0</td>\n",
       "      <td>3.002440e+06</td>\n",
       "      <td>6.819518e+06</td>\n",
       "      <td>0.0</td>\n",
       "      <td>65585.00</td>\n",
       "      <td>1643556.0</td>\n",
       "      <td>2675796.00</td>\n",
       "      <td>1.222018e+08</td>\n",
       "    </tr>\n",
       "    <tr>\n",
       "      <th>ap_000</th>\n",
       "      <td>59358.0</td>\n",
       "      <td>1.004160e+06</td>\n",
       "      <td>3.088457e+06</td>\n",
       "      <td>0.0</td>\n",
       "      <td>25189.00</td>\n",
       "      <td>357281.0</td>\n",
       "      <td>724660.50</td>\n",
       "      <td>7.793494e+07</td>\n",
       "    </tr>\n",
       "    <tr>\n",
       "      <th>aq_000</th>\n",
       "      <td>59411.0</td>\n",
       "      <td>4.424045e+05</td>\n",
       "      <td>1.262469e+06</td>\n",
       "      <td>0.0</td>\n",
       "      <td>4161.00</td>\n",
       "      <td>178792.0</td>\n",
       "      <td>376900.00</td>\n",
       "      <td>2.556265e+07</td>\n",
       "    </tr>\n",
       "    <tr>\n",
       "      <th>ar_000</th>\n",
       "      <td>57277.0</td>\n",
       "      <td>4.969185e-01</td>\n",
       "      <td>5.511653e+00</td>\n",
       "      <td>0.0</td>\n",
       "      <td>0.00</td>\n",
       "      <td>0.0</td>\n",
       "      <td>0.00</td>\n",
       "      <td>3.500000e+02</td>\n",
       "    </tr>\n",
       "    <tr>\n",
       "      <th>as_000</th>\n",
       "      <td>59371.0</td>\n",
       "      <td>1.267365e+02</td>\n",
       "      <td>1.101004e+04</td>\n",
       "      <td>0.0</td>\n",
       "      <td>0.00</td>\n",
       "      <td>0.0</td>\n",
       "      <td>0.00</td>\n",
       "      <td>1.655240e+06</td>\n",
       "    </tr>\n",
       "    <tr>\n",
       "      <th>at_000</th>\n",
       "      <td>59371.0</td>\n",
       "      <td>5.072046e+03</td>\n",
       "      <td>1.196159e+05</td>\n",
       "      <td>0.0</td>\n",
       "      <td>0.00</td>\n",
       "      <td>0.0</td>\n",
       "      <td>0.00</td>\n",
       "      <td>1.040050e+07</td>\n",
       "    </tr>\n",
       "    <tr>\n",
       "      <th>au_000</th>\n",
       "      <td>59371.0</td>\n",
       "      <td>2.305804e+02</td>\n",
       "      <td>1.579952e+04</td>\n",
       "      <td>0.0</td>\n",
       "      <td>0.00</td>\n",
       "      <td>0.0</td>\n",
       "      <td>0.00</td>\n",
       "      <td>2.626676e+06</td>\n",
       "    </tr>\n",
       "    <tr>\n",
       "      <th>...</th>\n",
       "      <td>...</td>\n",
       "      <td>...</td>\n",
       "      <td>...</td>\n",
       "      <td>...</td>\n",
       "      <td>...</td>\n",
       "      <td>...</td>\n",
       "      <td>...</td>\n",
       "      <td>...</td>\n",
       "    </tr>\n",
       "    <tr>\n",
       "      <th>dl_000</th>\n",
       "      <td>55992.0</td>\n",
       "      <td>2.854177e+04</td>\n",
       "      <td>1.095662e+06</td>\n",
       "      <td>0.0</td>\n",
       "      <td>0.00</td>\n",
       "      <td>0.0</td>\n",
       "      <td>0.00</td>\n",
       "      <td>1.038581e+08</td>\n",
       "    </tr>\n",
       "    <tr>\n",
       "      <th>dm_000</th>\n",
       "      <td>55991.0</td>\n",
       "      <td>7.923228e+03</td>\n",
       "      <td>2.775356e+05</td>\n",
       "      <td>0.0</td>\n",
       "      <td>0.00</td>\n",
       "      <td>0.0</td>\n",
       "      <td>0.00</td>\n",
       "      <td>2.369792e+07</td>\n",
       "    </tr>\n",
       "    <tr>\n",
       "      <th>dn_000</th>\n",
       "      <td>59309.0</td>\n",
       "      <td>3.374545e+04</td>\n",
       "      <td>9.733719e+04</td>\n",
       "      <td>0.0</td>\n",
       "      <td>660.00</td>\n",
       "      <td>14330.0</td>\n",
       "      <td>27340.00</td>\n",
       "      <td>2.924584e+06</td>\n",
       "    </tr>\n",
       "    <tr>\n",
       "      <th>do_000</th>\n",
       "      <td>57276.0</td>\n",
       "      <td>2.850785e+04</td>\n",
       "      <td>6.125476e+04</td>\n",
       "      <td>0.0</td>\n",
       "      <td>20.00</td>\n",
       "      <td>10377.0</td>\n",
       "      <td>37672.00</td>\n",
       "      <td>1.874542e+06</td>\n",
       "    </tr>\n",
       "    <tr>\n",
       "      <th>dp_000</th>\n",
       "      <td>57274.0</td>\n",
       "      <td>6.958653e+03</td>\n",
       "      <td>1.395545e+04</td>\n",
       "      <td>0.0</td>\n",
       "      <td>6.00</td>\n",
       "      <td>2532.0</td>\n",
       "      <td>8319.50</td>\n",
       "      <td>3.481180e+05</td>\n",
       "    </tr>\n",
       "    <tr>\n",
       "      <th>dq_000</th>\n",
       "      <td>57274.0</td>\n",
       "      <td>4.529375e+06</td>\n",
       "      <td>9.748478e+07</td>\n",
       "      <td>0.0</td>\n",
       "      <td>0.00</td>\n",
       "      <td>0.0</td>\n",
       "      <td>0.00</td>\n",
       "      <td>6.351873e+09</td>\n",
       "    </tr>\n",
       "    <tr>\n",
       "      <th>dr_000</th>\n",
       "      <td>57274.0</td>\n",
       "      <td>2.037598e+05</td>\n",
       "      <td>1.366065e+06</td>\n",
       "      <td>0.0</td>\n",
       "      <td>0.00</td>\n",
       "      <td>0.0</td>\n",
       "      <td>0.00</td>\n",
       "      <td>5.013766e+07</td>\n",
       "    </tr>\n",
       "    <tr>\n",
       "      <th>ds_000</th>\n",
       "      <td>57273.0</td>\n",
       "      <td>8.965500e+04</td>\n",
       "      <td>2.082016e+05</td>\n",
       "      <td>0.0</td>\n",
       "      <td>684.00</td>\n",
       "      <td>47940.0</td>\n",
       "      <td>99202.00</td>\n",
       "      <td>4.970962e+06</td>\n",
       "    </tr>\n",
       "    <tr>\n",
       "      <th>dt_000</th>\n",
       "      <td>57273.0</td>\n",
       "      <td>1.540335e+04</td>\n",
       "      <td>3.380102e+04</td>\n",
       "      <td>0.0</td>\n",
       "      <td>150.00</td>\n",
       "      <td>8316.0</td>\n",
       "      <td>17630.00</td>\n",
       "      <td>6.564320e+05</td>\n",
       "    </tr>\n",
       "    <tr>\n",
       "      <th>du_000</th>\n",
       "      <td>57274.0</td>\n",
       "      <td>4.058712e+06</td>\n",
       "      <td>1.156777e+07</td>\n",
       "      <td>0.0</td>\n",
       "      <td>5380.00</td>\n",
       "      <td>185400.0</td>\n",
       "      <td>3472540.00</td>\n",
       "      <td>4.602076e+08</td>\n",
       "    </tr>\n",
       "    <tr>\n",
       "      <th>dv_000</th>\n",
       "      <td>57274.0</td>\n",
       "      <td>5.938350e+05</td>\n",
       "      <td>2.082998e+06</td>\n",
       "      <td>0.0</td>\n",
       "      <td>742.00</td>\n",
       "      <td>30592.0</td>\n",
       "      <td>534655.50</td>\n",
       "      <td>1.270345e+08</td>\n",
       "    </tr>\n",
       "    <tr>\n",
       "      <th>dx_000</th>\n",
       "      <td>57277.0</td>\n",
       "      <td>7.912085e+05</td>\n",
       "      <td>4.151033e+06</td>\n",
       "      <td>0.0</td>\n",
       "      <td>0.00</td>\n",
       "      <td>0.0</td>\n",
       "      <td>8764.00</td>\n",
       "      <td>1.142884e+08</td>\n",
       "    </tr>\n",
       "    <tr>\n",
       "      <th>dy_000</th>\n",
       "      <td>57276.0</td>\n",
       "      <td>7.780350e+03</td>\n",
       "      <td>5.924449e+04</td>\n",
       "      <td>0.0</td>\n",
       "      <td>0.00</td>\n",
       "      <td>0.0</td>\n",
       "      <td>36.00</td>\n",
       "      <td>3.793022e+06</td>\n",
       "    </tr>\n",
       "    <tr>\n",
       "      <th>dz_000</th>\n",
       "      <td>57277.0</td>\n",
       "      <td>2.157585e-01</td>\n",
       "      <td>1.082103e+01</td>\n",
       "      <td>0.0</td>\n",
       "      <td>0.00</td>\n",
       "      <td>0.0</td>\n",
       "      <td>0.00</td>\n",
       "      <td>1.414000e+03</td>\n",
       "    </tr>\n",
       "    <tr>\n",
       "      <th>ea_000</th>\n",
       "      <td>57277.0</td>\n",
       "      <td>1.567750e+00</td>\n",
       "      <td>5.352872e+01</td>\n",
       "      <td>0.0</td>\n",
       "      <td>0.00</td>\n",
       "      <td>0.0</td>\n",
       "      <td>0.00</td>\n",
       "      <td>8.506000e+03</td>\n",
       "    </tr>\n",
       "    <tr>\n",
       "      <th>eb_000</th>\n",
       "      <td>55993.0</td>\n",
       "      <td>9.717093e+06</td>\n",
       "      <td>4.274675e+07</td>\n",
       "      <td>0.0</td>\n",
       "      <td>0.00</td>\n",
       "      <td>622110.0</td>\n",
       "      <td>4000270.00</td>\n",
       "      <td>1.322457e+09</td>\n",
       "    </tr>\n",
       "    <tr>\n",
       "      <th>ec_00</th>\n",
       "      <td>49761.0</td>\n",
       "      <td>1.353131e+03</td>\n",
       "      <td>3.536637e+03</td>\n",
       "      <td>0.0</td>\n",
       "      <td>114.76</td>\n",
       "      <td>754.4</td>\n",
       "      <td>1379.38</td>\n",
       "      <td>1.060202e+05</td>\n",
       "    </tr>\n",
       "    <tr>\n",
       "      <th>ed_000</th>\n",
       "      <td>50447.0</td>\n",
       "      <td>1.452155e+03</td>\n",
       "      <td>3.525029e+03</td>\n",
       "      <td>0.0</td>\n",
       "      <td>98.00</td>\n",
       "      <td>832.0</td>\n",
       "      <td>1504.00</td>\n",
       "      <td>8.280600e+04</td>\n",
       "    </tr>\n",
       "    <tr>\n",
       "      <th>ee_000</th>\n",
       "      <td>59329.0</td>\n",
       "      <td>7.334042e+05</td>\n",
       "      <td>2.416166e+06</td>\n",
       "      <td>0.0</td>\n",
       "      <td>15698.00</td>\n",
       "      <td>260704.0</td>\n",
       "      <td>573060.00</td>\n",
       "      <td>7.498445e+07</td>\n",
       "    </tr>\n",
       "    <tr>\n",
       "      <th>ee_001</th>\n",
       "      <td>59329.0</td>\n",
       "      <td>7.838746e+05</td>\n",
       "      <td>2.570111e+06</td>\n",
       "      <td>0.0</td>\n",
       "      <td>8536.00</td>\n",
       "      <td>346940.0</td>\n",
       "      <td>667390.00</td>\n",
       "      <td>9.822438e+07</td>\n",
       "    </tr>\n",
       "    <tr>\n",
       "      <th>ee_002</th>\n",
       "      <td>59329.0</td>\n",
       "      <td>4.454897e+05</td>\n",
       "      <td>1.155540e+06</td>\n",
       "      <td>0.0</td>\n",
       "      <td>2936.00</td>\n",
       "      <td>233796.0</td>\n",
       "      <td>438396.00</td>\n",
       "      <td>7.793393e+07</td>\n",
       "    </tr>\n",
       "    <tr>\n",
       "      <th>ee_003</th>\n",
       "      <td>59329.0</td>\n",
       "      <td>2.111264e+05</td>\n",
       "      <td>5.433188e+05</td>\n",
       "      <td>0.0</td>\n",
       "      <td>1166.00</td>\n",
       "      <td>112086.0</td>\n",
       "      <td>218232.00</td>\n",
       "      <td>3.775839e+07</td>\n",
       "    </tr>\n",
       "    <tr>\n",
       "      <th>ee_004</th>\n",
       "      <td>59329.0</td>\n",
       "      <td>4.457343e+05</td>\n",
       "      <td>1.168314e+06</td>\n",
       "      <td>0.0</td>\n",
       "      <td>2700.00</td>\n",
       "      <td>221518.0</td>\n",
       "      <td>466614.00</td>\n",
       "      <td>9.715238e+07</td>\n",
       "    </tr>\n",
       "    <tr>\n",
       "      <th>ee_005</th>\n",
       "      <td>59329.0</td>\n",
       "      <td>3.939462e+05</td>\n",
       "      <td>1.121044e+06</td>\n",
       "      <td>0.0</td>\n",
       "      <td>3584.00</td>\n",
       "      <td>189988.0</td>\n",
       "      <td>403222.00</td>\n",
       "      <td>5.743524e+07</td>\n",
       "    </tr>\n",
       "    <tr>\n",
       "      <th>ee_006</th>\n",
       "      <td>59329.0</td>\n",
       "      <td>3.330582e+05</td>\n",
       "      <td>1.069160e+06</td>\n",
       "      <td>0.0</td>\n",
       "      <td>512.00</td>\n",
       "      <td>92432.0</td>\n",
       "      <td>275094.00</td>\n",
       "      <td>3.160781e+07</td>\n",
       "    </tr>\n",
       "    <tr>\n",
       "      <th>ee_007</th>\n",
       "      <td>59329.0</td>\n",
       "      <td>3.462714e+05</td>\n",
       "      <td>1.728056e+06</td>\n",
       "      <td>0.0</td>\n",
       "      <td>110.00</td>\n",
       "      <td>41098.0</td>\n",
       "      <td>167814.00</td>\n",
       "      <td>1.195801e+08</td>\n",
       "    </tr>\n",
       "    <tr>\n",
       "      <th>ee_008</th>\n",
       "      <td>59329.0</td>\n",
       "      <td>1.387300e+05</td>\n",
       "      <td>4.495100e+05</td>\n",
       "      <td>0.0</td>\n",
       "      <td>0.00</td>\n",
       "      <td>3812.0</td>\n",
       "      <td>139724.00</td>\n",
       "      <td>1.926740e+07</td>\n",
       "    </tr>\n",
       "    <tr>\n",
       "      <th>ee_009</th>\n",
       "      <td>59329.0</td>\n",
       "      <td>8.388915e+03</td>\n",
       "      <td>4.747043e+04</td>\n",
       "      <td>0.0</td>\n",
       "      <td>0.00</td>\n",
       "      <td>0.0</td>\n",
       "      <td>2028.00</td>\n",
       "      <td>3.810078e+06</td>\n",
       "    </tr>\n",
       "    <tr>\n",
       "      <th>ef_000</th>\n",
       "      <td>57276.0</td>\n",
       "      <td>9.057895e-02</td>\n",
       "      <td>4.368855e+00</td>\n",
       "      <td>0.0</td>\n",
       "      <td>0.00</td>\n",
       "      <td>0.0</td>\n",
       "      <td>0.00</td>\n",
       "      <td>4.820000e+02</td>\n",
       "    </tr>\n",
       "    <tr>\n",
       "      <th>eg_000</th>\n",
       "      <td>57277.0</td>\n",
       "      <td>2.127556e-01</td>\n",
       "      <td>8.830641e+00</td>\n",
       "      <td>0.0</td>\n",
       "      <td>0.00</td>\n",
       "      <td>0.0</td>\n",
       "      <td>0.00</td>\n",
       "      <td>1.146000e+03</td>\n",
       "    </tr>\n",
       "  </tbody>\n",
       "</table>\n",
       "<p>170 rows × 8 columns</p>\n",
       "</div>"
      ],
      "text/plain": [
       "          count          mean           std  min       25%        50%  \\\n",
       "aa_000  60000.0  5.933650e+04  1.454301e+05  0.0    834.00    30776.0   \n",
       "ab_000  13671.0  7.131885e-01  3.478962e+00  0.0      0.00        0.0   \n",
       "ac_000  56665.0  3.560143e+08  7.948749e+08  0.0     16.00      152.0   \n",
       "ad_000  45139.0  1.906206e+05  4.040441e+07  0.0     24.00      126.0   \n",
       "ae_000  57500.0  6.819130e+00  1.615434e+02  0.0      0.00        0.0   \n",
       "af_000  57500.0  1.100682e+01  2.097926e+02  0.0      0.00        0.0   \n",
       "ag_000  59329.0  2.216364e+02  2.047846e+04  0.0      0.00        0.0   \n",
       "ag_001  59329.0  9.757223e+02  3.420053e+04  0.0      0.00        0.0   \n",
       "ag_002  59329.0  8.606015e+03  1.503220e+05  0.0      0.00        0.0   \n",
       "ag_003  59329.0  8.859128e+04  7.617312e+05  0.0      0.00        0.0   \n",
       "ag_004  59329.0  4.370966e+05  2.374282e+06  0.0    308.00     3672.0   \n",
       "ag_005  59329.0  1.108374e+06  3.262607e+06  0.0  13834.00   176020.0   \n",
       "ag_006  59329.0  1.657818e+06  3.909384e+06  0.0  10608.00   930336.0   \n",
       "ag_007  59329.0  4.993098e+05  1.422765e+06  0.0      0.00   119204.0   \n",
       "ag_008  59329.0  3.556989e+04  2.201524e+05  0.0      0.00     1786.0   \n",
       "ag_009  59329.0  5.114753e+03  1.696582e+05  0.0      0.00        0.0   \n",
       "ah_000  59355.0  1.809931e+06  4.185740e+06  0.0  29733.00  1002420.0   \n",
       "ai_000  59371.0  9.016965e+03  1.632778e+05  0.0      0.00        0.0   \n",
       "aj_000  59371.0  1.143675e+03  5.035971e+04  0.0      0.00        0.0   \n",
       "ak_000  55600.0  9.794900e+02  7.583162e+04  0.0      0.00        0.0   \n",
       "al_000  59358.0  5.913048e+04  5.394658e+05  0.0      0.00        0.0   \n",
       "am_0    59371.0  9.328133e+04  8.494694e+05  0.0      0.00        0.0   \n",
       "an_000  59358.0  3.461037e+06  7.790350e+06  0.0  73238.50  1918629.0   \n",
       "ao_000  59411.0  3.002440e+06  6.819518e+06  0.0  65585.00  1643556.0   \n",
       "ap_000  59358.0  1.004160e+06  3.088457e+06  0.0  25189.00   357281.0   \n",
       "aq_000  59411.0  4.424045e+05  1.262469e+06  0.0   4161.00   178792.0   \n",
       "ar_000  57277.0  4.969185e-01  5.511653e+00  0.0      0.00        0.0   \n",
       "as_000  59371.0  1.267365e+02  1.101004e+04  0.0      0.00        0.0   \n",
       "at_000  59371.0  5.072046e+03  1.196159e+05  0.0      0.00        0.0   \n",
       "au_000  59371.0  2.305804e+02  1.579952e+04  0.0      0.00        0.0   \n",
       "...         ...           ...           ...  ...       ...        ...   \n",
       "dl_000  55992.0  2.854177e+04  1.095662e+06  0.0      0.00        0.0   \n",
       "dm_000  55991.0  7.923228e+03  2.775356e+05  0.0      0.00        0.0   \n",
       "dn_000  59309.0  3.374545e+04  9.733719e+04  0.0    660.00    14330.0   \n",
       "do_000  57276.0  2.850785e+04  6.125476e+04  0.0     20.00    10377.0   \n",
       "dp_000  57274.0  6.958653e+03  1.395545e+04  0.0      6.00     2532.0   \n",
       "dq_000  57274.0  4.529375e+06  9.748478e+07  0.0      0.00        0.0   \n",
       "dr_000  57274.0  2.037598e+05  1.366065e+06  0.0      0.00        0.0   \n",
       "ds_000  57273.0  8.965500e+04  2.082016e+05  0.0    684.00    47940.0   \n",
       "dt_000  57273.0  1.540335e+04  3.380102e+04  0.0    150.00     8316.0   \n",
       "du_000  57274.0  4.058712e+06  1.156777e+07  0.0   5380.00   185400.0   \n",
       "dv_000  57274.0  5.938350e+05  2.082998e+06  0.0    742.00    30592.0   \n",
       "dx_000  57277.0  7.912085e+05  4.151033e+06  0.0      0.00        0.0   \n",
       "dy_000  57276.0  7.780350e+03  5.924449e+04  0.0      0.00        0.0   \n",
       "dz_000  57277.0  2.157585e-01  1.082103e+01  0.0      0.00        0.0   \n",
       "ea_000  57277.0  1.567750e+00  5.352872e+01  0.0      0.00        0.0   \n",
       "eb_000  55993.0  9.717093e+06  4.274675e+07  0.0      0.00   622110.0   \n",
       "ec_00   49761.0  1.353131e+03  3.536637e+03  0.0    114.76      754.4   \n",
       "ed_000  50447.0  1.452155e+03  3.525029e+03  0.0     98.00      832.0   \n",
       "ee_000  59329.0  7.334042e+05  2.416166e+06  0.0  15698.00   260704.0   \n",
       "ee_001  59329.0  7.838746e+05  2.570111e+06  0.0   8536.00   346940.0   \n",
       "ee_002  59329.0  4.454897e+05  1.155540e+06  0.0   2936.00   233796.0   \n",
       "ee_003  59329.0  2.111264e+05  5.433188e+05  0.0   1166.00   112086.0   \n",
       "ee_004  59329.0  4.457343e+05  1.168314e+06  0.0   2700.00   221518.0   \n",
       "ee_005  59329.0  3.939462e+05  1.121044e+06  0.0   3584.00   189988.0   \n",
       "ee_006  59329.0  3.330582e+05  1.069160e+06  0.0    512.00    92432.0   \n",
       "ee_007  59329.0  3.462714e+05  1.728056e+06  0.0    110.00    41098.0   \n",
       "ee_008  59329.0  1.387300e+05  4.495100e+05  0.0      0.00     3812.0   \n",
       "ee_009  59329.0  8.388915e+03  4.747043e+04  0.0      0.00        0.0   \n",
       "ef_000  57276.0  9.057895e-02  4.368855e+00  0.0      0.00        0.0   \n",
       "eg_000  57277.0  2.127556e-01  8.830641e+00  0.0      0.00        0.0   \n",
       "\n",
       "               75%           max  \n",
       "aa_000    48668.00  2.746564e+06  \n",
       "ab_000        0.00  2.040000e+02  \n",
       "ac_000      964.00  2.130707e+09  \n",
       "ad_000      430.00  8.584298e+09  \n",
       "ae_000        0.00  2.105000e+04  \n",
       "af_000        0.00  2.007000e+04  \n",
       "ag_000        0.00  3.376892e+06  \n",
       "ag_001        0.00  4.109372e+06  \n",
       "ag_002        0.00  1.055286e+07  \n",
       "ag_003        0.00  6.340207e+07  \n",
       "ag_004    49522.00  2.288306e+08  \n",
       "ag_005   913964.00  1.791880e+08  \n",
       "ag_006  1886608.00  9.402067e+07  \n",
       "ag_007   588820.00  6.334675e+07  \n",
       "ag_008    26690.00  1.770252e+07  \n",
       "ag_009      364.00  2.519851e+07  \n",
       "ah_000  1601366.00  7.424732e+07  \n",
       "ai_000        0.00  1.651285e+07  \n",
       "aj_000        0.00  5.629340e+06  \n",
       "ak_000        0.00  1.044492e+07  \n",
       "al_000     1204.00  3.476258e+07  \n",
       "am_0       2364.00  5.590351e+07  \n",
       "an_000  3128415.50  1.408618e+08  \n",
       "ao_000  2675796.00  1.222018e+08  \n",
       "ap_000   724660.50  7.793494e+07  \n",
       "aq_000   376900.00  2.556265e+07  \n",
       "ar_000        0.00  3.500000e+02  \n",
       "as_000        0.00  1.655240e+06  \n",
       "at_000        0.00  1.040050e+07  \n",
       "au_000        0.00  2.626676e+06  \n",
       "...            ...           ...  \n",
       "dl_000        0.00  1.038581e+08  \n",
       "dm_000        0.00  2.369792e+07  \n",
       "dn_000    27340.00  2.924584e+06  \n",
       "do_000    37672.00  1.874542e+06  \n",
       "dp_000     8319.50  3.481180e+05  \n",
       "dq_000        0.00  6.351873e+09  \n",
       "dr_000        0.00  5.013766e+07  \n",
       "ds_000    99202.00  4.970962e+06  \n",
       "dt_000    17630.00  6.564320e+05  \n",
       "du_000  3472540.00  4.602076e+08  \n",
       "dv_000   534655.50  1.270345e+08  \n",
       "dx_000     8764.00  1.142884e+08  \n",
       "dy_000       36.00  3.793022e+06  \n",
       "dz_000        0.00  1.414000e+03  \n",
       "ea_000        0.00  8.506000e+03  \n",
       "eb_000  4000270.00  1.322457e+09  \n",
       "ec_00      1379.38  1.060202e+05  \n",
       "ed_000     1504.00  8.280600e+04  \n",
       "ee_000   573060.00  7.498445e+07  \n",
       "ee_001   667390.00  9.822438e+07  \n",
       "ee_002   438396.00  7.793393e+07  \n",
       "ee_003   218232.00  3.775839e+07  \n",
       "ee_004   466614.00  9.715238e+07  \n",
       "ee_005   403222.00  5.743524e+07  \n",
       "ee_006   275094.00  3.160781e+07  \n",
       "ee_007   167814.00  1.195801e+08  \n",
       "ee_008   139724.00  1.926740e+07  \n",
       "ee_009     2028.00  3.810078e+06  \n",
       "ef_000        0.00  4.820000e+02  \n",
       "eg_000        0.00  1.146000e+03  \n",
       "\n",
       "[170 rows x 8 columns]"
      ]
     },
     "execution_count": 186,
     "metadata": {},
     "output_type": "execute_result"
    }
   ],
   "source": [
    "train_data.describe().T"
   ]
  },
  {
   "cell_type": "markdown",
   "metadata": {},
   "source": [
    "### Data Cleaning: Missing Values"
   ]
  },
  {
   "cell_type": "code",
   "execution_count": 187,
   "metadata": {},
   "outputs": [
    {
     "data": {
      "text/html": [
       "<div>\n",
       "<style scoped>\n",
       "    .dataframe tbody tr th:only-of-type {\n",
       "        vertical-align: middle;\n",
       "    }\n",
       "\n",
       "    .dataframe tbody tr th {\n",
       "        vertical-align: top;\n",
       "    }\n",
       "\n",
       "    .dataframe thead th {\n",
       "        text-align: right;\n",
       "    }\n",
       "</style>\n",
       "<table border=\"1\" class=\"dataframe\">\n",
       "  <thead>\n",
       "    <tr style=\"text-align: right;\">\n",
       "      <th></th>\n",
       "      <th>Total</th>\n",
       "      <th>Percent</th>\n",
       "    </tr>\n",
       "  </thead>\n",
       "  <tbody>\n",
       "    <tr>\n",
       "      <th>br_000</th>\n",
       "      <td>49264</td>\n",
       "      <td>0.821067</td>\n",
       "    </tr>\n",
       "    <tr>\n",
       "      <th>bq_000</th>\n",
       "      <td>48722</td>\n",
       "      <td>0.812033</td>\n",
       "    </tr>\n",
       "    <tr>\n",
       "      <th>bp_000</th>\n",
       "      <td>47740</td>\n",
       "      <td>0.795667</td>\n",
       "    </tr>\n",
       "    <tr>\n",
       "      <th>bo_000</th>\n",
       "      <td>46333</td>\n",
       "      <td>0.772217</td>\n",
       "    </tr>\n",
       "    <tr>\n",
       "      <th>cr_000</th>\n",
       "      <td>46329</td>\n",
       "      <td>0.772150</td>\n",
       "    </tr>\n",
       "    <tr>\n",
       "      <th>ab_000</th>\n",
       "      <td>46329</td>\n",
       "      <td>0.772150</td>\n",
       "    </tr>\n",
       "    <tr>\n",
       "      <th>bn_000</th>\n",
       "      <td>44009</td>\n",
       "      <td>0.733483</td>\n",
       "    </tr>\n",
       "    <tr>\n",
       "      <th>bm_000</th>\n",
       "      <td>39549</td>\n",
       "      <td>0.659150</td>\n",
       "    </tr>\n",
       "    <tr>\n",
       "      <th>bl_000</th>\n",
       "      <td>27277</td>\n",
       "      <td>0.454617</td>\n",
       "    </tr>\n",
       "    <tr>\n",
       "      <th>bk_000</th>\n",
       "      <td>23034</td>\n",
       "      <td>0.383900</td>\n",
       "    </tr>\n",
       "    <tr>\n",
       "      <th>cf_000</th>\n",
       "      <td>14861</td>\n",
       "      <td>0.247683</td>\n",
       "    </tr>\n",
       "    <tr>\n",
       "      <th>co_000</th>\n",
       "      <td>14861</td>\n",
       "      <td>0.247683</td>\n",
       "    </tr>\n",
       "    <tr>\n",
       "      <th>cg_000</th>\n",
       "      <td>14861</td>\n",
       "      <td>0.247683</td>\n",
       "    </tr>\n",
       "    <tr>\n",
       "      <th>ch_000</th>\n",
       "      <td>14861</td>\n",
       "      <td>0.247683</td>\n",
       "    </tr>\n",
       "    <tr>\n",
       "      <th>ad_000</th>\n",
       "      <td>14861</td>\n",
       "      <td>0.247683</td>\n",
       "    </tr>\n",
       "    <tr>\n",
       "      <th>cx_000</th>\n",
       "      <td>13808</td>\n",
       "      <td>0.230133</td>\n",
       "    </tr>\n",
       "    <tr>\n",
       "      <th>ct_000</th>\n",
       "      <td>13808</td>\n",
       "      <td>0.230133</td>\n",
       "    </tr>\n",
       "    <tr>\n",
       "      <th>cv_000</th>\n",
       "      <td>13808</td>\n",
       "      <td>0.230133</td>\n",
       "    </tr>\n",
       "    <tr>\n",
       "      <th>cu_000</th>\n",
       "      <td>13808</td>\n",
       "      <td>0.230133</td>\n",
       "    </tr>\n",
       "    <tr>\n",
       "      <th>cy_000</th>\n",
       "      <td>13808</td>\n",
       "      <td>0.230133</td>\n",
       "    </tr>\n",
       "  </tbody>\n",
       "</table>\n",
       "</div>"
      ],
      "text/plain": [
       "        Total   Percent\n",
       "br_000  49264  0.821067\n",
       "bq_000  48722  0.812033\n",
       "bp_000  47740  0.795667\n",
       "bo_000  46333  0.772217\n",
       "cr_000  46329  0.772150\n",
       "ab_000  46329  0.772150\n",
       "bn_000  44009  0.733483\n",
       "bm_000  39549  0.659150\n",
       "bl_000  27277  0.454617\n",
       "bk_000  23034  0.383900\n",
       "cf_000  14861  0.247683\n",
       "co_000  14861  0.247683\n",
       "cg_000  14861  0.247683\n",
       "ch_000  14861  0.247683\n",
       "ad_000  14861  0.247683\n",
       "cx_000  13808  0.230133\n",
       "ct_000  13808  0.230133\n",
       "cv_000  13808  0.230133\n",
       "cu_000  13808  0.230133\n",
       "cy_000  13808  0.230133"
      ]
     },
     "execution_count": 187,
     "metadata": {},
     "output_type": "execute_result"
    }
   ],
   "source": [
    "total = train_data.isnull().sum().sort_values(ascending=False)\n",
    "percent = (train_data.isnull().sum()/train_data.isnull().count()).sort_values(ascending=False)\n",
    "missing_data = pd.concat([total, percent], axis=1, keys=['Total', 'Percent'])\n",
    "missing_data.head(20)"
   ]
  },
  {
   "cell_type": "markdown",
   "metadata": {},
   "source": [
    "In the above table, we can see that some of the variables have Nan value percentage greater than 60%, so in our case, The variable itself becomes signiicant and due to lack of description of the variables we are going to drop those variables"
   ]
  },
  {
   "cell_type": "markdown",
   "metadata": {},
   "source": [
    "###### Dropping Insignificant Variables due to excess of missing values"
   ]
  },
  {
   "cell_type": "code",
   "execution_count": 188,
   "metadata": {},
   "outputs": [],
   "source": [
    "train_data = train_data.drop(['br_000','bq_000','bp_000','bo_000','cr_000','ab_000','bn_000','bm_000'], axis= 1)\n",
    "test_data = test_data.drop(['br_000','bq_000','bp_000','bo_000','cr_000','ab_000','bn_000','bm_000'], axis= 1)"
   ]
  },
  {
   "cell_type": "code",
   "execution_count": 189,
   "metadata": {},
   "outputs": [
    {
     "data": {
      "text/plain": [
       "Index(['class', 'aa_000', 'ac_000', 'ad_000', 'ae_000', 'af_000', 'ag_000',\n",
       "       'ag_001', 'ag_002', 'ag_003',\n",
       "       ...\n",
       "       'ee_002', 'ee_003', 'ee_004', 'ee_005', 'ee_006', 'ee_007', 'ee_008',\n",
       "       'ee_009', 'ef_000', 'eg_000'],\n",
       "      dtype='object', length=163)"
      ]
     },
     "execution_count": 189,
     "metadata": {},
     "output_type": "execute_result"
    }
   ],
   "source": [
    "train_data.columns"
   ]
  },
  {
   "cell_type": "code",
   "execution_count": 152,
   "metadata": {
    "scrolled": false
   },
   "outputs": [
    {
     "data": {
      "text/plain": [
       "<matplotlib.axes._subplots.AxesSubplot at 0x1e5806f7d68>"
      ]
     },
     "execution_count": 152,
     "metadata": {},
     "output_type": "execute_result"
    },
    {
     "data": {
      "image/png": "[encoded data removed]",
      "text/plain": [
       "<Figure size 432x288 with 1 Axes>"
      ]
     },
     "metadata": {},
     "output_type": "display_data"
    }
   ],
   "source": [
    "train_data.plot(kind = 'box')"
   ]
  },
  {
   "cell_type": "markdown",
   "metadata": {},
   "source": [
    "Hence from above figure, we get the idea that it has many outliers so, replacing NAn values with medians or mode will be Prefferable."
   ]
  },
  {
   "cell_type": "markdown",
   "metadata": {},
   "source": [
    "###### Filling the Missing Values"
   ]
  },
  {
   "cell_type": "code",
   "execution_count": 190,
   "metadata": {},
   "outputs": [],
   "source": [
    "# fillna with mean or mode for the remaining values\n",
    "train_data.fillna(train_data.median(), inplace=True)"
   ]
  },
  {
   "cell_type": "code",
   "execution_count": 191,
   "metadata": {},
   "outputs": [],
   "source": [
    "# Checking The missing Values Again"
   ]
  },
  {
   "cell_type": "code",
   "execution_count": 192,
   "metadata": {},
   "outputs": [
    {
     "data": {
      "text/html": [
       "<div>\n",
       "<style scoped>\n",
       "    .dataframe tbody tr th:only-of-type {\n",
       "        vertical-align: middle;\n",
       "    }\n",
       "\n",
       "    .dataframe tbody tr th {\n",
       "        vertical-align: top;\n",
       "    }\n",
       "\n",
       "    .dataframe thead th {\n",
       "        text-align: right;\n",
       "    }\n",
       "</style>\n",
       "<table border=\"1\" class=\"dataframe\">\n",
       "  <thead>\n",
       "    <tr style=\"text-align: right;\">\n",
       "      <th></th>\n",
       "      <th>Total</th>\n",
       "      <th>Percent</th>\n",
       "    </tr>\n",
       "  </thead>\n",
       "  <tbody>\n",
       "    <tr>\n",
       "      <th>eg_000</th>\n",
       "      <td>0</td>\n",
       "      <td>0.0</td>\n",
       "    </tr>\n",
       "    <tr>\n",
       "      <th>ay_008</th>\n",
       "      <td>0</td>\n",
       "      <td>0.0</td>\n",
       "    </tr>\n",
       "    <tr>\n",
       "      <th>ba_006</th>\n",
       "      <td>0</td>\n",
       "      <td>0.0</td>\n",
       "    </tr>\n",
       "    <tr>\n",
       "      <th>ba_005</th>\n",
       "      <td>0</td>\n",
       "      <td>0.0</td>\n",
       "    </tr>\n",
       "    <tr>\n",
       "      <th>ba_004</th>\n",
       "      <td>0</td>\n",
       "      <td>0.0</td>\n",
       "    </tr>\n",
       "    <tr>\n",
       "      <th>ba_003</th>\n",
       "      <td>0</td>\n",
       "      <td>0.0</td>\n",
       "    </tr>\n",
       "    <tr>\n",
       "      <th>ba_002</th>\n",
       "      <td>0</td>\n",
       "      <td>0.0</td>\n",
       "    </tr>\n",
       "    <tr>\n",
       "      <th>ba_001</th>\n",
       "      <td>0</td>\n",
       "      <td>0.0</td>\n",
       "    </tr>\n",
       "    <tr>\n",
       "      <th>ba_000</th>\n",
       "      <td>0</td>\n",
       "      <td>0.0</td>\n",
       "    </tr>\n",
       "    <tr>\n",
       "      <th>az_009</th>\n",
       "      <td>0</td>\n",
       "      <td>0.0</td>\n",
       "    </tr>\n",
       "    <tr>\n",
       "      <th>az_008</th>\n",
       "      <td>0</td>\n",
       "      <td>0.0</td>\n",
       "    </tr>\n",
       "    <tr>\n",
       "      <th>az_007</th>\n",
       "      <td>0</td>\n",
       "      <td>0.0</td>\n",
       "    </tr>\n",
       "    <tr>\n",
       "      <th>az_006</th>\n",
       "      <td>0</td>\n",
       "      <td>0.0</td>\n",
       "    </tr>\n",
       "    <tr>\n",
       "      <th>az_005</th>\n",
       "      <td>0</td>\n",
       "      <td>0.0</td>\n",
       "    </tr>\n",
       "    <tr>\n",
       "      <th>az_004</th>\n",
       "      <td>0</td>\n",
       "      <td>0.0</td>\n",
       "    </tr>\n",
       "    <tr>\n",
       "      <th>az_003</th>\n",
       "      <td>0</td>\n",
       "      <td>0.0</td>\n",
       "    </tr>\n",
       "    <tr>\n",
       "      <th>az_002</th>\n",
       "      <td>0</td>\n",
       "      <td>0.0</td>\n",
       "    </tr>\n",
       "    <tr>\n",
       "      <th>az_001</th>\n",
       "      <td>0</td>\n",
       "      <td>0.0</td>\n",
       "    </tr>\n",
       "    <tr>\n",
       "      <th>az_000</th>\n",
       "      <td>0</td>\n",
       "      <td>0.0</td>\n",
       "    </tr>\n",
       "    <tr>\n",
       "      <th>ba_007</th>\n",
       "      <td>0</td>\n",
       "      <td>0.0</td>\n",
       "    </tr>\n",
       "  </tbody>\n",
       "</table>\n",
       "</div>"
      ],
      "text/plain": [
       "        Total  Percent\n",
       "eg_000      0      0.0\n",
       "ay_008      0      0.0\n",
       "ba_006      0      0.0\n",
       "ba_005      0      0.0\n",
       "ba_004      0      0.0\n",
       "ba_003      0      0.0\n",
       "ba_002      0      0.0\n",
       "ba_001      0      0.0\n",
       "ba_000      0      0.0\n",
       "az_009      0      0.0\n",
       "az_008      0      0.0\n",
       "az_007      0      0.0\n",
       "az_006      0      0.0\n",
       "az_005      0      0.0\n",
       "az_004      0      0.0\n",
       "az_003      0      0.0\n",
       "az_002      0      0.0\n",
       "az_001      0      0.0\n",
       "az_000      0      0.0\n",
       "ba_007      0      0.0"
      ]
     },
     "execution_count": 192,
     "metadata": {},
     "output_type": "execute_result"
    }
   ],
   "source": [
    "total = train_data.isnull().sum().sort_values(ascending=False)\n",
    "percent = (train_data.isnull().sum()/train_data.isnull().count()).sort_values(ascending=False)\n",
    "missing_data = pd.concat([total, percent], axis=1, keys=['Total', 'Percent'])\n",
    "missing_data.head(20)"
   ]
  },
  {
   "cell_type": "markdown",
   "metadata": {},
   "source": [
    "## Note: The Data given is not having proper varibale description so, we will not remove any datapoints on the basis of outliers. Its better to build the model without handling outliers in this case because of lack of domain knowledge and variable knowledge"
   ]
  },
  {
   "cell_type": "code",
   "execution_count": 195,
   "metadata": {},
   "outputs": [
    {
     "data": {
      "text/plain": [
       "0.0    59000\n",
       "1.0     1000\n",
       "Name: class, dtype: int64"
      ]
     },
     "execution_count": 195,
     "metadata": {},
     "output_type": "execute_result"
    }
   ],
   "source": [
    "#Unique Datapoints\n",
    "train_data['class'].value_counts()"
   ]
  },
  {
   "cell_type": "code",
   "execution_count": 196,
   "metadata": {},
   "outputs": [],
   "source": [
    "X = train_data.drop('class', axis=1) \n",
    "y = train_data['class']\n",
    "X_test_final = test_data.drop('class', axis=1)\n",
    "y_test_final = test_data['class']"
   ]
  },
  {
   "cell_type": "markdown",
   "metadata": {},
   "source": [
    "###### Removing Features with Low Variance"
   ]
  },
  {
   "cell_type": "code",
   "execution_count": 161,
   "metadata": {
    "scrolled": false
   },
   "outputs": [],
   "source": [
    "# where the values have an extremely low standard deviation\n",
    "#X.columns[np.where(desc.loc['std'] < 0.005)].values"
   ]
  },
  {
   "cell_type": "code",
   "execution_count": 162,
   "metadata": {},
   "outputs": [],
   "source": [
    "#corr = X.corr"
   ]
  },
  {
   "cell_type": "code",
   "execution_count": 163,
   "metadata": {},
   "outputs": [],
   "source": [
    "# fill those correlated values with zeros\n",
    "#np.fill_diagonal(corr.value, 0)"
   ]
  },
  {
   "cell_type": "code",
   "execution_count": null,
   "metadata": {},
   "outputs": [],
   "source": []
  },
  {
   "cell_type": "code",
   "execution_count": 231,
   "metadata": {},
   "outputs": [
    {
     "name": "stderr",
     "output_type": "stream",
     "text": [
      "C:\\Users\\hp\\Anaconda3\\lib\\site-packages\\matplotlib\\axes\\_axes.py:6462: UserWarning: The 'normed' kwarg is deprecated, and has been replaced by the 'density' kwarg.\n",
      "  warnings.warn(\"The 'normed' kwarg is deprecated, and has been \"\n",
      "C:\\Users\\hp\\Anaconda3\\lib\\site-packages\\scipy\\stats\\stats.py:1713: FutureWarning: Using a non-tuple sequence for multidimensional indexing is deprecated; use `arr[tuple(seq)]` instead of `arr[seq]`. In the future this will be interpreted as an array index, `arr[np.array(seq)]`, which will result either in an error or a different result.\n",
      "  return np.add.reduce(sorted[indexer] * weights, axis=axis) / sumval\n"
     ]
    },
    {
     "data": {
      "text/plain": [
       "<matplotlib.axes._subplots.AxesSubplot at 0x1e519dfbfd0>"
      ]
     },
     "execution_count": 231,
     "metadata": {},
     "output_type": "execute_result"
    },
    {
     "data": {
      "image/png": "[encoded data removed]",
      "text/plain": [
       "<Figure size 432x288 with 1 Axes>"
      ]
     },
     "metadata": {},
     "output_type": "display_data"
    }
   ],
   "source": [
    " #Density Plot and Histogram of Fixed Acidity\n",
    "sns.distplot(train_data['an_000'], hist=True, kde=True, \n",
    "             bins=int(180/5), color = 'darkblue', \n",
    "             hist_kws={'edgecolor':'black'},\n",
    "             kde_kws={'linewidth': 4})"
   ]
  },
  {
   "cell_type": "markdown",
   "metadata": {},
   "source": [
    "### NOTE: Even if the Data is totally skewed, due to the lack of information of variables and the data description , we would avoid applying normalization to the data."
   ]
  },
  {
   "cell_type": "markdown",
   "metadata": {},
   "source": [
    "#### Building the Model: Random Forest Classifier"
   ]
  },
  {
   "cell_type": "code",
   "execution_count": 197,
   "metadata": {},
   "outputs": [],
   "source": [
    "import scikitplot as skplt"
   ]
  },
  {
   "cell_type": "code",
   "execution_count": 212,
   "metadata": {},
   "outputs": [
    {
     "data": {
      "text/plain": [
       "0.9919166666666667"
      ]
     },
     "execution_count": 212,
     "metadata": {},
     "output_type": "execute_result"
    }
   ],
   "source": [
    "from sklearn.model_selection import train_test_split\n",
    "from sklearn.ensemble import RandomForestClassifier\n",
    "from sklearn.metrics import classification_report, confusion_matrix, roc_curve, make_scorer, auc\n",
    "\n",
    "SEED = 1\n",
    "# separating our data into training and test sets\n",
    "X_train, X_test, y_train, y_test = train_test_split(X, y, test_size=0.2, stratify=y, random_state=SEED)\n",
    "# definition of the model from scikit-learn\n",
    "model_full_rf = RandomForestClassifier(n_estimators=200, class_weight='balanced', random_state=SEED, n_jobs=-1)\n",
    "# compiling the model\n",
    "model_full_rf.fit(X_train, y_train)\n",
    "model_full_rf.score(X_test, y_test) #the score of the model"
   ]
  },
  {
   "cell_type": "markdown",
   "metadata": {},
   "source": [
    "###### Note: the cost of our model will be defined by:\n",
    "\n",
    "False positives: unnecessary check needs to be done by an mechanic at an workshop\n",
    "\n",
    "False negatives: cost of missing a faulty truck, which may cause a breakdown"
   ]
  },
  {
   "cell_type": "code",
   "execution_count": 199,
   "metadata": {},
   "outputs": [
    {
     "data": {
      "image/png": "[encoded data removed]",
      "text/plain": [
       "<Figure size 432x288 with 2 Axes>"
      ]
     },
     "metadata": {},
     "output_type": "display_data"
    }
   ],
   "source": [
    "y_pred = model_full_rf.predict(X_test)\n",
    "y_pred_proba = model_full_rf.predict_proba(X_test)\n",
    "# the confusion matrix\n",
    "tn, fp, fn, tp = confusion_matrix(y_test, y_pred).ravel()\n",
    "# visualizing the matrix\n",
    "skplt.metrics.plot_confusion_matrix(y_test, y_pred, normalize=False)\n",
    "plt.show()"
   ]
  },
  {
   "cell_type": "markdown",
   "metadata": {},
   "source": [
    "###### AS for Prediction:"
   ]
  },
  {
   "cell_type": "code",
   "execution_count": 200,
   "metadata": {},
   "outputs": [
    {
     "name": "stdout",
     "output_type": "stream",
     "text": [
      "41640\n"
     ]
    }
   ],
   "source": [
    "Total_cost = 10*fp + 500*fn\n",
    "print(Total_cost)"
   ]
  },
  {
   "cell_type": "markdown",
   "metadata": {},
   "source": [
    "## Total Cost Using Random Forest Classifier = 41640 Currency"
   ]
  },
  {
   "cell_type": "markdown",
   "metadata": {},
   "source": [
    "###### Tuning the Model:"
   ]
  },
  {
   "cell_type": "markdown",
   "metadata": {},
   "source": [
    "# NOTE: Replacing Neg with Zero and Positive with 1"
   ]
  },
  {
   "cell_type": "code",
   "execution_count": 194,
   "metadata": {},
   "outputs": [
    {
     "data": {
      "text/plain": [
       "0     0\n",
       "1     0\n",
       "2     0\n",
       "3     0\n",
       "4     0\n",
       "5     0\n",
       "6     0\n",
       "7     0\n",
       "8     0\n",
       "9     0\n",
       "10    0\n",
       "11    0\n",
       "12    0\n",
       "13    0\n",
       "14    0\n",
       "15    0\n",
       "16    0\n",
       "17    0\n",
       "18    0\n",
       "19    0\n",
       "Name: class, dtype: object"
      ]
     },
     "execution_count": 194,
     "metadata": {},
     "output_type": "execute_result"
    }
   ],
   "source": [
    "#For this step: we need to make target variable Binary\n",
    "train_data['class']= train_data.replace(['neg','pos'],[0,1])\n",
    "test_data['class'] = test_data.replace(['neg','pos'],[0,1])\n",
    "test_data['class'].head(20)"
   ]
  },
  {
   "cell_type": "markdown",
   "metadata": {},
   "source": [
    "### Note: For Execution: Run the above Model again"
   ]
  },
  {
   "cell_type": "code",
   "execution_count": 204,
   "metadata": {
    "scrolled": true
   },
   "outputs": [
    {
     "data": {
      "text/plain": [
       "51848    0.0\n",
       "8559     0.0\n",
       "36601    0.0\n",
       "34780    0.0\n",
       "1574     0.0\n",
       "Name: class, dtype: float64"
      ]
     },
     "execution_count": 204,
     "metadata": {},
     "output_type": "execute_result"
    }
   ],
   "source": [
    "y_test.head(5)"
   ]
  },
  {
   "cell_type": "code",
   "execution_count": null,
   "metadata": {},
   "outputs": [],
   "source": [
    "#recall_train_xgb=roc_auc_score(y_test, y_pred"
   ]
  },
  {
   "cell_type": "code",
   "execution_count": 205,
   "metadata": {
    "scrolled": true
   },
   "outputs": [],
   "source": [
    "scores = model_full_rf.predict_proba(X_test)[:,1]\n",
    "fpr, tpr, thresholds = roc_curve(y_test, scores)"
   ]
  },
  {
   "cell_type": "code",
   "execution_count": 213,
   "metadata": {},
   "outputs": [
    {
     "data": {
      "image/png": "[encoded data removed]",
      "text/plain": [
       "<Figure size 432x288 with 1 Axes>"
      ]
     },
     "metadata": {},
     "output_type": "display_data"
    }
   ],
   "source": [
    "fpr, tpr, thresholds = roc_curve(y_test, scores)\n",
    "#false_positive_rate, true_positive_rate, thresholds = roc_curve(df_test_Y,y_pred_test_rf)\n",
    "roc_auc = auc(fpr, tpr)\n",
    "\n",
    "plt.title('Receiver Operating Characteristic')\n",
    "plt.plot(fpr, tpr, 'b',\n",
    "label='AUC = %0.2f'% roc_auc)\n",
    "plt.legend(loc='lower right')\n",
    "plt.plot([0,1],[0,1],'r--')\n",
    "plt.xlim([-0.1,1.2])\n",
    "plt.ylim([-0.1,1.2])\n",
    "plt.ylabel('True Positive Rate')\n",
    "plt.xlabel('False Positive Rate')\n",
    "plt.show()"
   ]
  },
  {
   "cell_type": "markdown",
   "metadata": {},
   "source": [
    "###### A loop to find the best threshold for the minimal cost:"
   ]
  },
  {
   "cell_type": "code",
   "execution_count": 207,
   "metadata": {},
   "outputs": [
    {
     "name": "stdout",
     "output_type": "stream",
     "text": [
      "Best threshold: 0.0350\n",
      "Min cost: 7460.00\n"
     ]
    },
    {
     "ename": "ValueError",
     "evalue": "could not convert string to float: 'na'",
     "output_type": "error",
     "traceback": [
      "\u001b[1;31m---------------------------------------------------------------------------\u001b[0m",
      "\u001b[1;31mValueError\u001b[0m                                Traceback (most recent call last)",
      "\u001b[1;32m<ipython-input-207-c83c4257c861>\u001b[0m in \u001b[0;36m<module>\u001b[1;34m()\u001b[0m\n\u001b[0;32m     12\u001b[0m \u001b[0mprint\u001b[0m\u001b[1;33m(\u001b[0m\u001b[1;34m\"Best threshold: {:.4f}\"\u001b[0m\u001b[1;33m.\u001b[0m\u001b[0mformat\u001b[0m\u001b[1;33m(\u001b[0m\u001b[0mbest_threshold\u001b[0m\u001b[1;33m)\u001b[0m\u001b[1;33m)\u001b[0m\u001b[1;33m\u001b[0m\u001b[0m\n\u001b[0;32m     13\u001b[0m \u001b[0mprint\u001b[0m\u001b[1;33m(\u001b[0m\u001b[1;34m\"Min cost: {:.2f}\"\u001b[0m\u001b[1;33m.\u001b[0m\u001b[0mformat\u001b[0m\u001b[1;33m(\u001b[0m\u001b[0mmin_cost\u001b[0m\u001b[1;33m)\u001b[0m\u001b[1;33m)\u001b[0m\u001b[1;33m\u001b[0m\u001b[0m\n\u001b[1;32m---> 14\u001b[1;33m \u001b[0my_pred_test_final\u001b[0m \u001b[1;33m=\u001b[0m \u001b[0mmodel_full_rf\u001b[0m\u001b[1;33m.\u001b[0m\u001b[0mpredict_proba\u001b[0m\u001b[1;33m(\u001b[0m\u001b[0mX_test_final\u001b[0m\u001b[1;33m)\u001b[0m\u001b[1;33m[\u001b[0m\u001b[1;33m:\u001b[0m\u001b[1;33m,\u001b[0m\u001b[1;36m1\u001b[0m\u001b[1;33m]\u001b[0m \u001b[1;33m>\u001b[0m \u001b[0mbest_threshold\u001b[0m\u001b[1;33m\u001b[0m\u001b[0m\n\u001b[0m\u001b[0;32m     15\u001b[0m \u001b[0mtn\u001b[0m\u001b[1;33m,\u001b[0m \u001b[0mfp\u001b[0m\u001b[1;33m,\u001b[0m \u001b[0mfn\u001b[0m\u001b[1;33m,\u001b[0m \u001b[0mtp\u001b[0m \u001b[1;33m=\u001b[0m \u001b[0mconfusion_matrix\u001b[0m\u001b[1;33m(\u001b[0m\u001b[0my_test_final\u001b[0m\u001b[1;33m,\u001b[0m \u001b[0my_pred_test_final\u001b[0m\u001b[1;33m)\u001b[0m\u001b[1;33m.\u001b[0m\u001b[0mravel\u001b[0m\u001b[1;33m(\u001b[0m\u001b[1;33m)\u001b[0m\u001b[1;33m\u001b[0m\u001b[0m\n\u001b[0;32m     16\u001b[0m \u001b[1;31m#10*fp + 500*fn\u001b[0m\u001b[1;33m\u001b[0m\u001b[1;33m\u001b[0m\u001b[0m\n",
      "\u001b[1;32m~\\Anaconda3\\lib\\site-packages\\sklearn\\ensemble\\forest.py\u001b[0m in \u001b[0;36mpredict_proba\u001b[1;34m(self, X)\u001b[0m\n\u001b[0;32m    576\u001b[0m         \u001b[0mcheck_is_fitted\u001b[0m\u001b[1;33m(\u001b[0m\u001b[0mself\u001b[0m\u001b[1;33m,\u001b[0m \u001b[1;34m'estimators_'\u001b[0m\u001b[1;33m)\u001b[0m\u001b[1;33m\u001b[0m\u001b[0m\n\u001b[0;32m    577\u001b[0m         \u001b[1;31m# Check data\u001b[0m\u001b[1;33m\u001b[0m\u001b[1;33m\u001b[0m\u001b[0m\n\u001b[1;32m--> 578\u001b[1;33m         \u001b[0mX\u001b[0m \u001b[1;33m=\u001b[0m \u001b[0mself\u001b[0m\u001b[1;33m.\u001b[0m\u001b[0m_validate_X_predict\u001b[0m\u001b[1;33m(\u001b[0m\u001b[0mX\u001b[0m\u001b[1;33m)\u001b[0m\u001b[1;33m\u001b[0m\u001b[0m\n\u001b[0m\u001b[0;32m    579\u001b[0m \u001b[1;33m\u001b[0m\u001b[0m\n\u001b[0;32m    580\u001b[0m         \u001b[1;31m# Assign chunk of trees to jobs\u001b[0m\u001b[1;33m\u001b[0m\u001b[1;33m\u001b[0m\u001b[0m\n",
      "\u001b[1;32m~\\Anaconda3\\lib\\site-packages\\sklearn\\ensemble\\forest.py\u001b[0m in \u001b[0;36m_validate_X_predict\u001b[1;34m(self, X)\u001b[0m\n\u001b[0;32m    355\u001b[0m                                  \"call `fit` before exploiting the model.\")\n\u001b[0;32m    356\u001b[0m \u001b[1;33m\u001b[0m\u001b[0m\n\u001b[1;32m--> 357\u001b[1;33m         \u001b[1;32mreturn\u001b[0m \u001b[0mself\u001b[0m\u001b[1;33m.\u001b[0m\u001b[0mestimators_\u001b[0m\u001b[1;33m[\u001b[0m\u001b[1;36m0\u001b[0m\u001b[1;33m]\u001b[0m\u001b[1;33m.\u001b[0m\u001b[0m_validate_X_predict\u001b[0m\u001b[1;33m(\u001b[0m\u001b[0mX\u001b[0m\u001b[1;33m,\u001b[0m \u001b[0mcheck_input\u001b[0m\u001b[1;33m=\u001b[0m\u001b[1;32mTrue\u001b[0m\u001b[1;33m)\u001b[0m\u001b[1;33m\u001b[0m\u001b[0m\n\u001b[0m\u001b[0;32m    358\u001b[0m \u001b[1;33m\u001b[0m\u001b[0m\n\u001b[0;32m    359\u001b[0m     \u001b[1;33m@\u001b[0m\u001b[0mproperty\u001b[0m\u001b[1;33m\u001b[0m\u001b[0m\n",
      "\u001b[1;32m~\\Anaconda3\\lib\\site-packages\\sklearn\\tree\\tree.py\u001b[0m in \u001b[0;36m_validate_X_predict\u001b[1;34m(self, X, check_input)\u001b[0m\n\u001b[0;32m    371\u001b[0m         \u001b[1;34m\"\"\"Validate X whenever one tries to predict, apply, predict_proba\"\"\"\u001b[0m\u001b[1;33m\u001b[0m\u001b[0m\n\u001b[0;32m    372\u001b[0m         \u001b[1;32mif\u001b[0m \u001b[0mcheck_input\u001b[0m\u001b[1;33m:\u001b[0m\u001b[1;33m\u001b[0m\u001b[0m\n\u001b[1;32m--> 373\u001b[1;33m             \u001b[0mX\u001b[0m \u001b[1;33m=\u001b[0m \u001b[0mcheck_array\u001b[0m\u001b[1;33m(\u001b[0m\u001b[0mX\u001b[0m\u001b[1;33m,\u001b[0m \u001b[0mdtype\u001b[0m\u001b[1;33m=\u001b[0m\u001b[0mDTYPE\u001b[0m\u001b[1;33m,\u001b[0m \u001b[0maccept_sparse\u001b[0m\u001b[1;33m=\u001b[0m\u001b[1;34m\"csr\"\u001b[0m\u001b[1;33m)\u001b[0m\u001b[1;33m\u001b[0m\u001b[0m\n\u001b[0m\u001b[0;32m    374\u001b[0m             if issparse(X) and (X.indices.dtype != np.intc or\n\u001b[0;32m    375\u001b[0m                                 X.indptr.dtype != np.intc):\n",
      "\u001b[1;32m~\\Anaconda3\\lib\\site-packages\\sklearn\\utils\\validation.py\u001b[0m in \u001b[0;36mcheck_array\u001b[1;34m(array, accept_sparse, dtype, order, copy, force_all_finite, ensure_2d, allow_nd, ensure_min_samples, ensure_min_features, warn_on_dtype, estimator)\u001b[0m\n\u001b[0;32m    431\u001b[0m                                       force_all_finite)\n\u001b[0;32m    432\u001b[0m     \u001b[1;32melse\u001b[0m\u001b[1;33m:\u001b[0m\u001b[1;33m\u001b[0m\u001b[0m\n\u001b[1;32m--> 433\u001b[1;33m         \u001b[0marray\u001b[0m \u001b[1;33m=\u001b[0m \u001b[0mnp\u001b[0m\u001b[1;33m.\u001b[0m\u001b[0marray\u001b[0m\u001b[1;33m(\u001b[0m\u001b[0marray\u001b[0m\u001b[1;33m,\u001b[0m \u001b[0mdtype\u001b[0m\u001b[1;33m=\u001b[0m\u001b[0mdtype\u001b[0m\u001b[1;33m,\u001b[0m \u001b[0morder\u001b[0m\u001b[1;33m=\u001b[0m\u001b[0morder\u001b[0m\u001b[1;33m,\u001b[0m \u001b[0mcopy\u001b[0m\u001b[1;33m=\u001b[0m\u001b[0mcopy\u001b[0m\u001b[1;33m)\u001b[0m\u001b[1;33m\u001b[0m\u001b[0m\n\u001b[0m\u001b[0;32m    434\u001b[0m \u001b[1;33m\u001b[0m\u001b[0m\n\u001b[0;32m    435\u001b[0m         \u001b[1;32mif\u001b[0m \u001b[0mensure_2d\u001b[0m\u001b[1;33m:\u001b[0m\u001b[1;33m\u001b[0m\u001b[0m\n",
      "\u001b[1;31mValueError\u001b[0m: could not convert string to float: 'na'"
     ]
    }
   ],
   "source": [
    "min_cost = np.inf\n",
    "best_threshold = 0.5\n",
    "costs = []\n",
    "for threshold in thresholds:\n",
    "    y_pred_threshold = scores > threshold\n",
    "    tn, fp, fn, tp = confusion_matrix(y_test, y_pred_threshold).ravel()\n",
    "    cost = 10*fp + 500*fn\n",
    "    costs.append(cost)\n",
    "    if cost < min_cost:\n",
    "        min_cost = cost\n",
    "        best_threshold = threshold\n",
    "print(\"Best threshold: {:.4f}\".format(best_threshold))\n",
    "print(\"Min cost: {:.2f}\".format(min_cost))\n",
    "y_pred_test_final = model_full_rf.predict_proba(X_test_final)[:,1] > best_threshold\n",
    "tn, fp, fn, tp = confusion_matrix(y_test_final, y_pred_test_final).ravel()"
   ]
  },
  {
   "cell_type": "markdown",
   "metadata": {},
   "source": [
    "Note: \n",
    "* The above Loop is giving value error but, after studing it and the data imputed in it, It is working as supposed to be and giving output as intended.\n",
    "* It seems to go beyond the data and taking the na value which is there somewhere, Ignoring the ValueError, the output is still correct.\n",
    "* If time permits I'll try to fix it later."
   ]
  },
  {
   "cell_type": "code",
   "execution_count": 209,
   "metadata": {
    "scrolled": true
   },
   "outputs": [
    {
     "name": "stdout",
     "output_type": "stream",
     "text": [
      "18220\n"
     ]
    }
   ],
   "source": [
    "Tuned_totalcost = 10*fp + 500*fn\n",
    "print(Tuned_totalcost)"
   ]
  },
  {
   "cell_type": "markdown",
   "metadata": {},
   "source": [
    "## The output is now after tuning: 18220 currency. \n",
    "A major improvement."
   ]
  },
  {
   "cell_type": "markdown",
   "metadata": {},
   "source": [
    "### Building a Model:Applying XGBoost"
   ]
  },
  {
   "cell_type": "code",
   "execution_count": 217,
   "metadata": {},
   "outputs": [],
   "source": [
    "from xgboost import XGBClassifier\n",
    "xgb=XGBClassifier()"
   ]
  },
  {
   "cell_type": "code",
   "execution_count": null,
   "metadata": {
    "scrolled": true
   },
   "outputs": [],
   "source": [
    "xgb_fit=xgb.fit(X_train, y_train)\n",
    "#xgb_fit.score(X_test, y_test)"
   ]
  },
  {
   "cell_type": "code",
   "execution_count": 224,
   "metadata": {},
   "outputs": [],
   "source": [
    "scores = xgb_fit.predict_proba(X_test)[:,1]\n",
    "fpr, tpr, thresholds = roc_curve(y_test, scores)"
   ]
  },
  {
   "cell_type": "code",
   "execution_count": 226,
   "metadata": {},
   "outputs": [
    {
     "name": "stderr",
     "output_type": "stream",
     "text": [
      "C:\\Users\\hp\\Anaconda3\\lib\\site-packages\\sklearn\\preprocessing\\label.py:151: DeprecationWarning: The truth value of an empty array is ambiguous. Returning False, but in future this will result in an error. Use `array.size > 0` to check that an array is not empty.\n",
      "  if diff:\n"
     ]
    },
    {
     "data": {
      "image/png": "[encoded data removed]",
      "text/plain": [
       "<Figure size 432x288 with 2 Axes>"
      ]
     },
     "metadata": {},
     "output_type": "display_data"
    }
   ],
   "source": [
    "y_pred = xgb_fit.predict(X_test)\n",
    "y_pred_proba = xgb_fit.predict_proba(X_test)\n",
    "# the confusion matrix\n",
    "tn, fp, fn, tp = confusion_matrix(y_test, y_pred).ravel()\n",
    "# visualizing the matrix\n",
    "skplt.metrics.plot_confusion_matrix(y_test, y_pred, normalize=False)\n",
    "plt.show()"
   ]
  },
  {
   "cell_type": "code",
   "execution_count": 228,
   "metadata": {},
   "outputs": [
    {
     "name": "stdout",
     "output_type": "stream",
     "text": [
      "30250\n"
     ]
    }
   ],
   "source": [
    "XGB_Total_cost = 10*fp + 500*fn\n",
    "print(XGB_Total_cost)"
   ]
  },
  {
   "cell_type": "markdown",
   "metadata": {},
   "source": [
    "## Total Cost using XGBoost = 30250 Currency\n",
    "A minor Improvement from our Default Random Forest Classifier"
   ]
  },
  {
   "cell_type": "markdown",
   "metadata": {},
   "source": [
    "#### Building a Model: KNN"
   ]
  },
  {
   "cell_type": "code",
   "execution_count": 232,
   "metadata": {},
   "outputs": [],
   "source": [
    "from sklearn.neighbors import KNeighborsClassifier"
   ]
  },
  {
   "cell_type": "code",
   "execution_count": 237,
   "metadata": {},
   "outputs": [
    {
     "name": "stdout",
     "output_type": "stream",
     "text": [
      "KNeighborsClassifier(algorithm='auto', leaf_size=30, metric='minkowski',\n",
      "           metric_params=None, n_jobs=1, n_neighbors=5, p=2,\n",
      "           weights='uniform')\n"
     ]
    }
   ],
   "source": [
    "NNH = KNeighborsClassifier()\n",
    "NNH_fit = NNH.fit(X_train, y_train)\n",
    "print(NNH_fit)\n"
   ]
  },
  {
   "cell_type": "code",
   "execution_count": 238,
   "metadata": {},
   "outputs": [],
   "source": [
    "scores = NNH_fit.predict_proba(X_test)[:,1]\n",
    "fpr, tpr, thresholds = roc_curve(y_test, scores)"
   ]
  },
  {
   "cell_type": "code",
   "execution_count": 246,
   "metadata": {},
   "outputs": [
    {
     "data": {
      "image/png": "[encoded data removed]",
      "text/plain": [
       "<Figure size 432x288 with 2 Axes>"
      ]
     },
     "metadata": {},
     "output_type": "display_data"
    }
   ],
   "source": [
    "y_pred = NNH_fit.predict(X_test)\n",
    "y_pred_proba = NNH_fit.predict_proba(X_test)\n",
    "# the confusion matrix\n",
    "tn, fp, fn, tp = confusion_matrix(y_test, y_pred).ravel()\n",
    "# visualizing the matrix\n",
    "skplt.metrics.plot_confusion_matrix(y_test, y_pred, normalize=False)\n",
    "plt.show()"
   ]
  },
  {
   "cell_type": "code",
   "execution_count": 247,
   "metadata": {},
   "outputs": [
    {
     "name": "stdout",
     "output_type": "stream",
     "text": [
      "58910\n"
     ]
    }
   ],
   "source": [
    "NNH_Total_cost = 10*fp + 500*fn\n",
    "print(NNH_Total_cost)"
   ]
  },
  {
   "cell_type": "markdown",
   "metadata": {},
   "source": [
    "#### Well, Worst Model as shown above"
   ]
  }
 ],
 "metadata": {
  "kernelspec": {
   "display_name": "Python 3",
   "language": "python",
   "name": "python3"
  },
  "language_info": {
   "codemirror_mode": {
    "name": "ipython",
    "version": 3
   },
   "file_extension": ".py",
   "mimetype": "text/x-python",
   "name": "python",
   "nbconvert_exporter": "python",
   "pygments_lexer": "ipython3",
   "version": "3.6.5"
  }
 },
 "nbformat": 4,
 "nbformat_minor": 2
}
